{
  "nbformat": 4,
  "nbformat_minor": 0,
  "metadata": {
    "colab": {
      "name": "HW4_DS5500.ipynb",
      "provenance": [],
      "machine_shape": "hm",
      "include_colab_link": true
    },
    "kernelspec": {
      "name": "python3",
      "display_name": "Python 3"
    }
  },
  "cells": [
    {
      "cell_type": "markdown",
      "metadata": {
        "id": "view-in-github",
        "colab_type": "text"
      },
      "source": [
        "<a href=\"https://colab.research.google.com/github/prathwishshetty/DS5500_hw4/blob/master/HW4_DS5500.ipynb\" target=\"_parent\"><img src=\"https://colab.research.google.com/assets/colab-badge.svg\" alt=\"Open In Colab\"/></a>"
      ]
    },
    {
      "cell_type": "markdown",
      "metadata": {
        "id": "uVsIGSL82DBf",
        "colab_type": "text"
      },
      "source": [
        "<center><h2>DS 5500 Homework 4</h2></center>\n",
        "\n",
        "\n",
        "#####**Instructions**\n",
        "Create a new public Github repository for this homework assignment. The repository should include all of\n",
        "the code necessary to reproduce your submitted solutions. Do not include the raw data in the repository.\n",
        "\n",
        "\n",
        "*Use the README.md of the Github repository to present your solutions. Answer all questions completely for\n",
        "full credit, including figures and tables where appropriate. For each problem, either provide relevant inline\n",
        "code snippets, or cite the source file where the relevant code lives (with line numbers if appropriate).*\n",
        "\n",
        "Describe any data processing steps (transformation, filtering, etc.) you perform when solving each problem,\n",
        "providing reasoning where appropriate. You may need to be creative when deciding how to approach each\n",
        "problem, as there may not be a single “correct” solution.\n",
        "\n",
        "Your solutions should be posted as a **public** note on Piazza in the hw4 folder with the title “[hw4] - your\n",
        "name name”. Include in the body of the note a link to the Github repository with your solutions."
      ]
    },
    {
      "cell_type": "markdown",
      "metadata": {
        "id": "W1OYTHse20-s",
        "colab_type": "text"
      },
      "source": [
        "#####**Overview**\n",
        "\n",
        "This homework assignment continues to use school data from the previous assignment.\n",
        "\n",
        "Download the 2015-16 district-level fiscal data from the National Center for Education Statistics’ Common\n",
        "Core of Data:\n",
        "* https://nces.ed.gov/ccd/f33agency.asp\n",
        "\n",
        "The 2015-16 performance statistics on graduation rate and state assessments on mathematics and reading/language arts are available from the EDFacts website:\n",
        "* https://www2.ed.gov/about/inits/ed/edfacts/data-files/index.html\n",
        "\n",
        "Additionally, the 2015-16 district-level “universe” survey data provides statistics about enrollment disaggregated by demographics like gender, race, disability status, etc:\n",
        "* https://nces.ed.gov/ccd/pubagency.asp\n",
        "\n",
        "These datasets can be linked based on the LEA IDs."
      ]
    },
    {
      "cell_type": "code",
      "metadata": {
        "id": "yamlFko3t842",
        "colab_type": "code",
        "colab": {}
      },
      "source": [
        "%%capture\n",
        "!wget https://nces.ed.gov/ccd/data/zip/Sdf16_1a.zip\n",
        "!unzip Sdf16_1a.zip\n",
        "!wget https://www2.ed.gov/about/inits/ed/edfacts/data-files/math-achievement-sch-sy2015-16.csv\n",
        "!wget https://www2.ed.gov/about/inits/ed/edfacts/data-files/rla-achievement-sch-sy2015-16.csv\n",
        "\n",
        "!wget https://nces.ed.gov/ccd/Data/zip/ccd_lea_052_1516_w_1a_011717_csv.zip\n",
        "!unzip ccd_lea_052_1516_w_1a_011717_csv.zip\n",
        "!rm ccd_lea_052_1516_w_1a_011717_csv.zip\n",
        "\n",
        "!wget https://nces.ed.gov/ccd/Data/zip/ccd_lea_002089_1516_w_1a_011717_csv.zip\n",
        "!unzip ccd_lea_002089_1516_w_1a_011717_csv.zip\n",
        "!rm ccd_lea_002089_1516_w_1a_011717_csv.zip"
      ],
      "execution_count": 0,
      "outputs": []
    },
    {
      "cell_type": "code",
      "metadata": {
        "colab_type": "code",
        "cellView": "both",
        "id": "0YFDDYK7uwLh",
        "colab": {}
      },
      "source": [
        "import pandas as pd \n",
        "import numpy as np \n",
        "import re \n",
        "\n",
        "data = pd.read_csv('Sdf16_1a.txt',sep='\\t',low_memory=False)\n",
        "math = pd.read_csv('math-achievement-sch-sy2015-16.csv',error_bad_lines=False, index_col=False,low_memory=False)\n",
        "rla  = pd.read_csv('rla-achievement-sch-sy2015-16.csv',error_bad_lines=False, index_col=False,low_memory=False)\n",
        "demo = pd.read_csv('ccd_lea_052_1516_w_1a_011717.csv',error_bad_lines=False, index_col=False,low_memory=False)\n",
        "disb = pd.read_csv('ccd_lea_002089_1516_w_1a_011717.csv',error_bad_lines=False, index_col=False,low_memory=False)\n"
      ],
      "execution_count": 0,
      "outputs": []
    },
    {
      "cell_type": "code",
      "metadata": {
        "colab_type": "code",
        "cellView": "form",
        "id": "o70DNh4Zuv5U",
        "colab": {}
      },
      "source": [
        "#@title Function ColumnFixer\n",
        "def columnFixer(data,column):\n",
        "\n",
        "    data['temp_for_PS'] = data[column].fillna('PS')\n",
        "    colVals = data.temp_for_PS.copy()\n",
        "\n",
        "    def stringFixer(string):\n",
        "        if string.isdigit()==True:x=int(string)\n",
        "        elif \"-\" in string: x=int(np.mean([int(x) for x in string.split('-')]))\n",
        "        elif string=='PS': x=np.nan\n",
        "        elif string.isalnum()==True:\n",
        "            alpha = re.findall(\"[a-zA-Z]+\",string)[0]\n",
        "            num   = int(re.findall(r'\\d+', string)[0]) \n",
        "            if alpha == \"LT\":   x= int((0+(num-1))/2)\n",
        "            elif alpha == \"LE\": x= int((0+num)/2)\n",
        "            elif alpha == \"GT\": x= int(((num+1)+100)/2)\n",
        "            elif alpha == \"GE\": x= int((num+100)/2)\n",
        "        else:\n",
        "            x = np.nan\n",
        "        return x\n",
        "\n",
        "    colVals_proc = [stringFixer(x) for x in colVals]\n",
        "\n",
        "    col_name = column+'_proc'\n",
        "\n",
        "    data[col_name]= colVals_proc\n",
        "    data[col_name] =  data[col_name].fillna(np.nanmean(colVals_proc, axis=0))\n",
        "    return data"
      ],
      "execution_count": 0,
      "outputs": []
    },
    {
      "cell_type": "markdown",
      "metadata": {
        "id": "Go6OqZOX3KNx",
        "colab_type": "text"
      },
      "source": [
        "#####**Problem 1**\n",
        "For the districts you selected for budget cuts in HW 3 Problem 4, calculate and visualize the proportion of\n",
        "each district’s total funding that will be lost.\n"
      ]
    },
    {
      "cell_type": "code",
      "metadata": {
        "id": "8CWNpgoXwK7q",
        "colab_type": "code",
        "colab": {}
      },
      "source": [
        "pd.options.mode.chained_assignment = None\n",
        "math_sub = math[['LEAID','ALL_MTH00PCTPROF_1516']].copy()\n",
        "math_sub = columnFixer(math_sub,'ALL_MTH00PCTPROF_1516')\n",
        "math_sub_grouped = math_sub.groupby(['LEAID'])['ALL_MTH00PCTPROF_1516_proc'].mean().reset_index()\n",
        "rla_sub  =  rla[['LEAID','ALL_RLA00PCTPROF_1516']].copy()\n",
        "rla_sub = columnFixer(rla_sub,'ALL_RLA00PCTPROF_1516')\n",
        "rla_sub_grouped = rla_sub.groupby(['LEAID'])['ALL_RLA00PCTPROF_1516_proc'].mean().reset_index()\n",
        "\n",
        "math_sub_grouped['LEAID'] = math_sub_grouped['LEAID'].astype(str)\n",
        "data['LEAID'] = data['LEAID'].astype(str)\n",
        "rla_sub_grouped['LEAID'] = rla_sub_grouped['LEAID'].astype(str)\n",
        "\n",
        "data_math     = pd.merge(data,math_sub_grouped, on='LEAID', how='left')\n",
        "\n",
        "data_math_rla = pd.merge(data_math,rla_sub_grouped,  on='LEAID',how='left') \n",
        "data_math_rla = data_math_rla[data_math_rla['ALL_MTH00PCTPROF_1516_proc'].notnull()]\n",
        "data_math_rla = data_math_rla[data_math_rla['ALL_RLA00PCTPROF_1516_proc'].notnull()]\n",
        "data_debt_grouped = data_math_rla[['LEAID','NAME','STNAME','TFEDREV','ALL_MTH00PCTPROF_1516_proc','ALL_RLA00PCTPROF_1516_proc']]\n",
        "data_debt_grouped['Avg_Score'] = (data_debt_grouped['ALL_MTH00PCTPROF_1516_proc'] + data_debt_grouped['ALL_RLA00PCTPROF_1516_proc'])/2\n",
        "#funding cut 1\n",
        "\n",
        "cut1 = data_debt_grouped.query('Avg_Score>75')\n",
        "cut1['fed_cut'] = cut1['TFEDREV'].multiply(0.30)\n",
        "cut1['cut_prop'] = cut1['fed_cut']/cut1['TFEDREV']\n",
        "cut1 = cut1[['LEAID','NAME','STNAME','TFEDREV','fed_cut','cut_prop']].copy()\n",
        "\n",
        "cut2 = data_debt_grouped.query('Avg_Score>50 and Avg_Score<=75')\n",
        "cut2['fed_cut'] = cut2['TFEDREV'].multiply(0.25)\n",
        "cut2['cut_prop'] = cut2['fed_cut']/cut2['TFEDREV']\n",
        "cut2 = cut2[['LEAID','NAME','STNAME','TFEDREV','fed_cut','cut_prop']].copy()\n",
        "\n",
        "\n",
        "cut3 = data_debt_grouped.query('Avg_Score>25 and Avg_Score<=50')\n",
        "cut3['fed_cut'] = cut3['TFEDREV'].multiply(0.15)\n",
        "cut3['cut_prop'] = cut3['fed_cut']/cut3['TFEDREV']\n",
        "cut3 = cut3[['LEAID','NAME','STNAME','TFEDREV','fed_cut','cut_prop']].copy()\n",
        "\n",
        "cut4 = data_debt_grouped.query('Avg_Score<=25')\n",
        "cut4['fed_cut'] = cut4['TFEDREV'].multiply(0)\n",
        "cut4['cut_prop'] = cut4['fed_cut']/cut4['TFEDREV']\n",
        "cut4 = cut4[['LEAID','NAME','STNAME','TFEDREV','fed_cut','cut_prop']].copy()\n",
        "\n",
        "main_cut = pd.concat([cut1,cut2,cut3,cut4])\n",
        "# main_cut.sort_values(by=['fed_cut'],ascending=False).head(10)"
      ],
      "execution_count": 0,
      "outputs": []
    },
    {
      "cell_type": "code",
      "metadata": {
        "id": "BVs0QErT_3jt",
        "colab_type": "code",
        "colab": {}
      },
      "source": [
        "main_cut_agg = main_cut.groupby(['STNAME'])['TFEDREV','fed_cut'].agg('sum')"
      ],
      "execution_count": 0,
      "outputs": []
    },
    {
      "cell_type": "code",
      "metadata": {
        "id": "XVZRWj6j-MHP",
        "colab_type": "code",
        "colab": {}
      },
      "source": [
        "main_cut_agg['cut_prop'] = main_cut_agg['fed_cut']/main_cut_agg['TFEDREV']\n",
        "main_cut_agg = main_cut_agg.reset_index()"
      ],
      "execution_count": 0,
      "outputs": []
    },
    {
      "cell_type": "code",
      "metadata": {
        "id": "PREIsWBM5yoY",
        "colab_type": "code",
        "outputId": "70faf2b5-46d1-4783-f825-5886ee4c83a3",
        "colab": {
          "base_uri": "https://localhost:8080/",
          "height": 542
        }
      },
      "source": [
        "import plotly.graph_objects as go\n",
        "\n",
        "from plotly.subplots import make_subplots\n",
        "\n",
        "fig = make_subplots(specs=[[{\"secondary_y\": True}]])\n",
        "\n",
        "fig.add_trace(go.Bar(name='Fed Cut',  x=main_cut_agg['STNAME'], y=main_cut_agg['fed_cut']))\n",
        "fig.add_trace(go.Bar(name='Revenue',  x=main_cut_agg['STNAME'], y=main_cut_agg['TFEDREV']))\n",
        "fig.add_trace(go.Scatter(name='Cut Pecentage',x=main_cut_agg['STNAME'], y=main_cut_agg['cut_prop'],mode='lines'),secondary_y=True)\n",
        "\n",
        "# Change the bar mode\n",
        "fig.update_layout(barmode='stack')\n",
        "fig.show()"
      ],
      "execution_count": 8,
      "outputs": [
        {
          "output_type": "display_data",
          "data": {
            "text/html": [
              "<html>\n",
              "<head><meta charset=\"utf-8\" /></head>\n",
              "<body>\n",
              "    <div>\n",
              "            <script src=\"https://cdnjs.cloudflare.com/ajax/libs/mathjax/2.7.5/MathJax.js?config=TeX-AMS-MML_SVG\"></script><script type=\"text/javascript\">if (window.MathJax) {MathJax.Hub.Config({SVG: {font: \"STIX-Web\"}});}</script>\n",
              "                <script type=\"text/javascript\">window.PlotlyConfig = {MathJaxConfig: 'local'};</script>\n",
              "        <script src=\"https://cdn.plot.ly/plotly-latest.min.js\"></script>    \n",
              "            <div id=\"8ebb9e49-0982-41a3-a442-ae28fa5019a4\" class=\"plotly-graph-div\" style=\"height:525px; width:100%;\"></div>\n",
              "            <script type=\"text/javascript\">\n",
              "                \n",
              "                    window.PLOTLYENV=window.PLOTLYENV || {};\n",
              "                    \n",
              "                if (document.getElementById(\"8ebb9e49-0982-41a3-a442-ae28fa5019a4\")) {\n",
              "                    Plotly.newPlot(\n",
              "                        '8ebb9e49-0982-41a3-a442-ae28fa5019a4',\n",
              "                        [{\"name\": \"Fed Cut\", \"type\": \"bar\", \"x\": [\"Delaware\", \"District of Columbia\", \"Florida\", \"Georgia\", \"Hawaii\", \"Idaho\", \"Illinois\", \"Indiana\", \"Iowa\", \"Kansas\", \"Kentucky\", \"Louisiana\", \"Maine\", \"Maryland\", \"Massachusetts\", \"Michigan\", \"Minnesota\", \"Mississippi\", \"Missouri\", \"Montana\", \"Nebraska\", \"Nevada\", \"New Hampshire\", \"New Jersey\", \"New Mexico\", \"New York\", \"North Carolina\", \"North Dakota\", \"Ohio\", \"Oklahoma\", \"Oregon\", \"Pennsylvania\", \"Rhode Island\", \"South Carolina\", \"South Dakota\", \"Tennessee\", \"Texas\", \"Utah\", \"Vermont\", \"Virginia\", \"Washington\", \"Wisconsin\", \"Wyoming\"], \"y\": [26264849.7, 5075900.0, 615906548.75, 232709249.4, 39169650.0, 43893400.0, 121333248.94999999, 206832149.7, 99377150.0, 50740900.0, 162694350.0, 265066287.74999985, 29575599.7, 122090000.0, 181169498.19999996, 208773199.7, 128175049.7, 54855949.1, 187586049.4, 23341800.0, 85974449.10000001, 62852650.0, 33875545.35000001, 160182650.0, 25130949.7, 272734320.74999976, 263868950.0, 18571050.0, 310929648.6, 169334150.0, 98364499.4, 248239999.24999997, 17884150.0, 148561899.85, 25209249.7, 166916349.55, 1569235999.2, 70064449.7, 5309250.0, 300566699.09999996, 211652199.35, 91950149.10000001, 24703300.0]}, {\"name\": \"Revenue\", \"type\": \"bar\", \"x\": [\"Delaware\", \"District of Columbia\", \"Florida\", \"Georgia\", \"Hawaii\", \"Idaho\", \"Illinois\", \"Indiana\", \"Iowa\", \"Kansas\", \"Kentucky\", \"Louisiana\", \"Maine\", \"Maryland\", \"Massachusetts\", \"Michigan\", \"Minnesota\", \"Mississippi\", \"Missouri\", \"Montana\", \"Nebraska\", \"Nevada\", \"New Hampshire\", \"New Jersey\", \"New Mexico\", \"New York\", \"North Carolina\", \"North Dakota\", \"Ohio\", \"Oklahoma\", \"Oregon\", \"Pennsylvania\", \"Rhode Island\", \"South Carolina\", \"South Dakota\", \"Tennessee\", \"Texas\", \"Utah\", \"Vermont\", \"Virginia\", \"Washington\", \"Wisconsin\", \"Wyoming\"], \"y\": [144088998, 220305999, 3147328991, 1797236992, 261131000, 248546000, 2123146992, 961512998, 367931000, 453922000, 880296000, 1047295935, 175662998, 823598998, 804168991, 1626139994, 666555998, 690723986, 958942994, 187727000, 327091990, 405789000, 169003973, 1239710000, 516275996, 1635594875, 1587870998, 127556998, 1713507991, 698043000, 536190996, 1427328988, 185280998, 858378996, 196502998, 1095380996, 5907411994, 419617998, 31305000, 1058145994, 1038258994, 781964980, 123012000]}, {\"mode\": \"lines\", \"name\": \"Cut Pecentage\", \"type\": \"scatter\", \"x\": [\"Delaware\", \"District of Columbia\", \"Florida\", \"Georgia\", \"Hawaii\", \"Idaho\", \"Illinois\", \"Indiana\", \"Iowa\", \"Kansas\", \"Kentucky\", \"Louisiana\", \"Maine\", \"Maryland\", \"Massachusetts\", \"Michigan\", \"Minnesota\", \"Mississippi\", \"Missouri\", \"Montana\", \"Nebraska\", \"Nevada\", \"New Hampshire\", \"New Jersey\", \"New Mexico\", \"New York\", \"North Carolina\", \"North Dakota\", \"Ohio\", \"Oklahoma\", \"Oregon\", \"Pennsylvania\", \"Rhode Island\", \"South Carolina\", \"South Dakota\", \"Tennessee\", \"Texas\", \"Utah\", \"Vermont\", \"Virginia\", \"Washington\", \"Wisconsin\", \"Wyoming\"], \"xaxis\": \"x\", \"y\": [0.18228213163089663, 0.02304022597223964, 0.19569182329245732, 0.12948167127421334, 0.15, 0.17660070972777675, 0.05714783263108143, 0.21511113227821388, 0.2700972464945873, 0.11178330197699164, 0.1848177772022138, 0.2530958813947844, 0.1683655638166895, 0.14823961696951943, 0.2252878440074046, 0.12838574813381043, 0.19229449601322168, 0.07941804571992958, 0.195617519053484, 0.12433906683641671, 0.26284486238871213, 0.15488997976781035, 0.2004423017321611, 0.1292097748667027, 0.048677354544293006, 0.16674931238702967, 0.16617782573795709, 0.14559020901385591, 0.18145795072630042, 0.2425841244737072, 0.18345048710963435, 0.1739192585150523, 0.09652446928205773, 0.17307261773912277, 0.12828938976289816, 0.1523820023896051, 0.2656384895439544, 0.1669719841235218, 0.16959750838524199, 0.28405031139776726, 0.20385298906449925, 0.11758857679278682, 0.20082024517933209], \"yaxis\": \"y2\"}],\n",
              "                        {\"barmode\": \"stack\", \"template\": {\"data\": {\"bar\": [{\"error_x\": {\"color\": \"#2a3f5f\"}, \"error_y\": {\"color\": \"#2a3f5f\"}, \"marker\": {\"line\": {\"color\": \"#E5ECF6\", \"width\": 0.5}}, \"type\": \"bar\"}], \"barpolar\": [{\"marker\": {\"line\": {\"color\": \"#E5ECF6\", \"width\": 0.5}}, \"type\": \"barpolar\"}], \"carpet\": [{\"aaxis\": {\"endlinecolor\": \"#2a3f5f\", \"gridcolor\": \"white\", \"linecolor\": \"white\", \"minorgridcolor\": \"white\", \"startlinecolor\": \"#2a3f5f\"}, \"baxis\": {\"endlinecolor\": \"#2a3f5f\", \"gridcolor\": \"white\", \"linecolor\": \"white\", \"minorgridcolor\": \"white\", \"startlinecolor\": \"#2a3f5f\"}, \"type\": \"carpet\"}], \"choropleth\": [{\"colorbar\": {\"outlinewidth\": 0, \"ticks\": \"\"}, \"type\": \"choropleth\"}], \"contour\": [{\"colorbar\": {\"outlinewidth\": 0, \"ticks\": \"\"}, \"colorscale\": [[0.0, \"#0d0887\"], [0.1111111111111111, \"#46039f\"], [0.2222222222222222, \"#7201a8\"], [0.3333333333333333, \"#9c179e\"], [0.4444444444444444, \"#bd3786\"], [0.5555555555555556, \"#d8576b\"], [0.6666666666666666, \"#ed7953\"], [0.7777777777777778, \"#fb9f3a\"], [0.8888888888888888, \"#fdca26\"], [1.0, \"#f0f921\"]], \"type\": \"contour\"}], \"contourcarpet\": [{\"colorbar\": {\"outlinewidth\": 0, \"ticks\": \"\"}, \"type\": \"contourcarpet\"}], \"heatmap\": [{\"colorbar\": {\"outlinewidth\": 0, \"ticks\": \"\"}, \"colorscale\": [[0.0, \"#0d0887\"], [0.1111111111111111, \"#46039f\"], [0.2222222222222222, \"#7201a8\"], [0.3333333333333333, \"#9c179e\"], [0.4444444444444444, \"#bd3786\"], [0.5555555555555556, \"#d8576b\"], [0.6666666666666666, \"#ed7953\"], [0.7777777777777778, \"#fb9f3a\"], [0.8888888888888888, \"#fdca26\"], [1.0, \"#f0f921\"]], \"type\": \"heatmap\"}], \"heatmapgl\": [{\"colorbar\": {\"outlinewidth\": 0, \"ticks\": \"\"}, \"colorscale\": [[0.0, \"#0d0887\"], [0.1111111111111111, \"#46039f\"], [0.2222222222222222, \"#7201a8\"], [0.3333333333333333, \"#9c179e\"], [0.4444444444444444, \"#bd3786\"], [0.5555555555555556, \"#d8576b\"], [0.6666666666666666, \"#ed7953\"], [0.7777777777777778, \"#fb9f3a\"], [0.8888888888888888, \"#fdca26\"], [1.0, \"#f0f921\"]], \"type\": \"heatmapgl\"}], \"histogram\": [{\"marker\": {\"colorbar\": {\"outlinewidth\": 0, \"ticks\": \"\"}}, \"type\": \"histogram\"}], \"histogram2d\": [{\"colorbar\": {\"outlinewidth\": 0, \"ticks\": \"\"}, \"colorscale\": [[0.0, \"#0d0887\"], [0.1111111111111111, \"#46039f\"], [0.2222222222222222, \"#7201a8\"], [0.3333333333333333, \"#9c179e\"], [0.4444444444444444, \"#bd3786\"], [0.5555555555555556, \"#d8576b\"], [0.6666666666666666, \"#ed7953\"], [0.7777777777777778, \"#fb9f3a\"], [0.8888888888888888, \"#fdca26\"], [1.0, \"#f0f921\"]], \"type\": \"histogram2d\"}], \"histogram2dcontour\": [{\"colorbar\": {\"outlinewidth\": 0, \"ticks\": \"\"}, \"colorscale\": [[0.0, \"#0d0887\"], [0.1111111111111111, \"#46039f\"], [0.2222222222222222, \"#7201a8\"], [0.3333333333333333, \"#9c179e\"], [0.4444444444444444, \"#bd3786\"], [0.5555555555555556, \"#d8576b\"], [0.6666666666666666, \"#ed7953\"], [0.7777777777777778, \"#fb9f3a\"], [0.8888888888888888, \"#fdca26\"], [1.0, \"#f0f921\"]], \"type\": \"histogram2dcontour\"}], \"mesh3d\": [{\"colorbar\": {\"outlinewidth\": 0, \"ticks\": \"\"}, \"type\": \"mesh3d\"}], \"parcoords\": [{\"line\": {\"colorbar\": {\"outlinewidth\": 0, \"ticks\": \"\"}}, \"type\": \"parcoords\"}], \"scatter\": [{\"marker\": {\"colorbar\": {\"outlinewidth\": 0, \"ticks\": \"\"}}, \"type\": \"scatter\"}], \"scatter3d\": [{\"line\": {\"colorbar\": {\"outlinewidth\": 0, \"ticks\": \"\"}}, \"marker\": {\"colorbar\": {\"outlinewidth\": 0, \"ticks\": \"\"}}, \"type\": \"scatter3d\"}], \"scattercarpet\": [{\"marker\": {\"colorbar\": {\"outlinewidth\": 0, \"ticks\": \"\"}}, \"type\": \"scattercarpet\"}], \"scattergeo\": [{\"marker\": {\"colorbar\": {\"outlinewidth\": 0, \"ticks\": \"\"}}, \"type\": \"scattergeo\"}], \"scattergl\": [{\"marker\": {\"colorbar\": {\"outlinewidth\": 0, \"ticks\": \"\"}}, \"type\": \"scattergl\"}], \"scattermapbox\": [{\"marker\": {\"colorbar\": {\"outlinewidth\": 0, \"ticks\": \"\"}}, \"type\": \"scattermapbox\"}], \"scatterpolar\": [{\"marker\": {\"colorbar\": {\"outlinewidth\": 0, \"ticks\": \"\"}}, \"type\": \"scatterpolar\"}], \"scatterpolargl\": [{\"marker\": {\"colorbar\": {\"outlinewidth\": 0, \"ticks\": \"\"}}, \"type\": \"scatterpolargl\"}], \"scatterternary\": [{\"marker\": {\"colorbar\": {\"outlinewidth\": 0, \"ticks\": \"\"}}, \"type\": \"scatterternary\"}], \"surface\": [{\"colorbar\": {\"outlinewidth\": 0, \"ticks\": \"\"}, \"colorscale\": [[0.0, \"#0d0887\"], [0.1111111111111111, \"#46039f\"], [0.2222222222222222, \"#7201a8\"], [0.3333333333333333, \"#9c179e\"], [0.4444444444444444, \"#bd3786\"], [0.5555555555555556, \"#d8576b\"], [0.6666666666666666, \"#ed7953\"], [0.7777777777777778, \"#fb9f3a\"], [0.8888888888888888, \"#fdca26\"], [1.0, \"#f0f921\"]], \"type\": \"surface\"}], \"table\": [{\"cells\": {\"fill\": {\"color\": \"#EBF0F8\"}, \"line\": {\"color\": \"white\"}}, \"header\": {\"fill\": {\"color\": \"#C8D4E3\"}, \"line\": {\"color\": \"white\"}}, \"type\": \"table\"}]}, \"layout\": {\"annotationdefaults\": {\"arrowcolor\": \"#2a3f5f\", \"arrowhead\": 0, \"arrowwidth\": 1}, \"colorscale\": {\"diverging\": [[0, \"#8e0152\"], [0.1, \"#c51b7d\"], [0.2, \"#de77ae\"], [0.3, \"#f1b6da\"], [0.4, \"#fde0ef\"], [0.5, \"#f7f7f7\"], [0.6, \"#e6f5d0\"], [0.7, \"#b8e186\"], [0.8, \"#7fbc41\"], [0.9, \"#4d9221\"], [1, \"#276419\"]], \"sequential\": [[0.0, \"#0d0887\"], [0.1111111111111111, \"#46039f\"], [0.2222222222222222, \"#7201a8\"], [0.3333333333333333, \"#9c179e\"], [0.4444444444444444, \"#bd3786\"], [0.5555555555555556, \"#d8576b\"], [0.6666666666666666, \"#ed7953\"], [0.7777777777777778, \"#fb9f3a\"], [0.8888888888888888, \"#fdca26\"], [1.0, \"#f0f921\"]], \"sequentialminus\": [[0.0, \"#0d0887\"], [0.1111111111111111, \"#46039f\"], [0.2222222222222222, \"#7201a8\"], [0.3333333333333333, \"#9c179e\"], [0.4444444444444444, \"#bd3786\"], [0.5555555555555556, \"#d8576b\"], [0.6666666666666666, \"#ed7953\"], [0.7777777777777778, \"#fb9f3a\"], [0.8888888888888888, \"#fdca26\"], [1.0, \"#f0f921\"]]}, \"colorway\": [\"#636efa\", \"#EF553B\", \"#00cc96\", \"#ab63fa\", \"#FFA15A\", \"#19d3f3\", \"#FF6692\", \"#B6E880\", \"#FF97FF\", \"#FECB52\"], \"font\": {\"color\": \"#2a3f5f\"}, \"geo\": {\"bgcolor\": \"white\", \"lakecolor\": \"white\", \"landcolor\": \"#E5ECF6\", \"showlakes\": true, \"showland\": true, \"subunitcolor\": \"white\"}, \"hoverlabel\": {\"align\": \"left\"}, \"hovermode\": \"closest\", \"mapbox\": {\"style\": \"light\"}, \"paper_bgcolor\": \"white\", \"plot_bgcolor\": \"#E5ECF6\", \"polar\": {\"angularaxis\": {\"gridcolor\": \"white\", \"linecolor\": \"white\", \"ticks\": \"\"}, \"bgcolor\": \"#E5ECF6\", \"radialaxis\": {\"gridcolor\": \"white\", \"linecolor\": \"white\", \"ticks\": \"\"}}, \"scene\": {\"xaxis\": {\"backgroundcolor\": \"#E5ECF6\", \"gridcolor\": \"white\", \"gridwidth\": 2, \"linecolor\": \"white\", \"showbackground\": true, \"ticks\": \"\", \"zerolinecolor\": \"white\"}, \"yaxis\": {\"backgroundcolor\": \"#E5ECF6\", \"gridcolor\": \"white\", \"gridwidth\": 2, \"linecolor\": \"white\", \"showbackground\": true, \"ticks\": \"\", \"zerolinecolor\": \"white\"}, \"zaxis\": {\"backgroundcolor\": \"#E5ECF6\", \"gridcolor\": \"white\", \"gridwidth\": 2, \"linecolor\": \"white\", \"showbackground\": true, \"ticks\": \"\", \"zerolinecolor\": \"white\"}}, \"shapedefaults\": {\"line\": {\"color\": \"#2a3f5f\"}}, \"ternary\": {\"aaxis\": {\"gridcolor\": \"white\", \"linecolor\": \"white\", \"ticks\": \"\"}, \"baxis\": {\"gridcolor\": \"white\", \"linecolor\": \"white\", \"ticks\": \"\"}, \"bgcolor\": \"#E5ECF6\", \"caxis\": {\"gridcolor\": \"white\", \"linecolor\": \"white\", \"ticks\": \"\"}}, \"title\": {\"x\": 0.05}, \"xaxis\": {\"automargin\": true, \"gridcolor\": \"white\", \"linecolor\": \"white\", \"ticks\": \"\", \"zerolinecolor\": \"white\", \"zerolinewidth\": 2}, \"yaxis\": {\"automargin\": true, \"gridcolor\": \"white\", \"linecolor\": \"white\", \"ticks\": \"\", \"zerolinecolor\": \"white\", \"zerolinewidth\": 2}}}, \"xaxis\": {\"anchor\": \"y\", \"domain\": [0.0, 0.94]}, \"yaxis\": {\"anchor\": \"x\", \"domain\": [0.0, 1.0]}, \"yaxis2\": {\"anchor\": \"x\", \"overlaying\": \"y\", \"side\": \"right\"}},\n",
              "                        {\"responsive\": true}\n",
              "                    ).then(function(){\n",
              "                            \n",
              "var gd = document.getElementById('8ebb9e49-0982-41a3-a442-ae28fa5019a4');\n",
              "var x = new MutationObserver(function (mutations, observer) {{\n",
              "        var display = window.getComputedStyle(gd).display;\n",
              "        if (!display || display === 'none') {{\n",
              "            console.log([gd, 'removed!']);\n",
              "            Plotly.purge(gd);\n",
              "            observer.disconnect();\n",
              "        }}\n",
              "}});\n",
              "\n",
              "// Listen for the removal of the full notebook cells\n",
              "var notebookContainer = gd.closest('#notebook-container');\n",
              "if (notebookContainer) {{\n",
              "    x.observe(notebookContainer, {childList: true});\n",
              "}}\n",
              "\n",
              "// Listen for the clearing of the current output cell\n",
              "var outputEl = gd.closest('.output');\n",
              "if (outputEl) {{\n",
              "    x.observe(outputEl, {childList: true});\n",
              "}}\n",
              "\n",
              "                        })\n",
              "                };\n",
              "                \n",
              "            </script>\n",
              "        </div>\n",
              "</body>\n",
              "</html>"
            ]
          },
          "metadata": {
            "tags": []
          }
        }
      ]
    },
    {
      "cell_type": "markdown",
      "metadata": {
        "id": "Gex7mFkIAzRx",
        "colab_type": "text"
      },
      "source": [
        "Which districts will be affected by your budget cuts the most?"
      ]
    },
    {
      "cell_type": "code",
      "metadata": {
        "id": "v-9BVTZOAy2q",
        "colab_type": "code",
        "colab": {
          "base_uri": "https://localhost:8080/",
          "height": 228
        },
        "outputId": "0e0fcfd5-e892-4745-bbf0-20a96d85dcd7"
      },
      "source": [
        "main_cut.query('cut_prop == 0.3')['NAME']"
      ],
      "execution_count": 22,
      "outputs": [
        {
          "output_type": "execute_result",
          "data": {
            "text/plain": [
              "2880      Charter School of Wilmington\n",
              "2885                    Sussex Academy\n",
              "2887             Newark Charter School\n",
              "2891                MOT Charter School\n",
              "3078                       FAU LAB SCH\n",
              "                     ...              \n",
              "17952    Mercer Island School District\n",
              "18054         St. John School District\n",
              "18175     Lake Country School District\n",
              "18450          Swallow School District\n",
              "18451       North Lake School District\n",
              "Name: NAME, Length: 1793, dtype: object"
            ]
          },
          "metadata": {
            "tags": []
          },
          "execution_count": 22
        }
      ]
    },
    {
      "cell_type": "markdown",
      "metadata": {
        "id": "dJ1EWWoN3Ueb",
        "colab_type": "text"
      },
      "source": [
        "#####**Problem 2**\n",
        "\n",
        "A common problem with purely data-driven solutions is that they can inadvertently perpetuate hidden\n",
        "pre-existing biases in the data, and further disadvantage groups that are already disadvantaged.\n",
        "\n",
        "Calculate the proportion of enrolled students by race for each district, then visualize the distributions of\n",
        "these for districts that received budget cuts versus districts that did not receive budget cuts."
      ]
    },
    {
      "cell_type": "code",
      "metadata": {
        "id": "eVyRHIXStHHD",
        "colab_type": "code",
        "colab": {},
        "cellView": "both"
      },
      "source": [
        "#@title\n",
        "cols = ['AM','AS','HI','BL','WH','HP','TR','TOTAL']\n",
        "demo_race = demo[['LEAID']+cols]\n",
        "\n",
        "main_cut['LEAID'] = main_cut['LEAID'].astype(str)\n",
        "demo_race['LEAID'] = demo_race['LEAID'].astype(str)\n",
        "\n",
        "main_cut_demo = main_cut.merge(demo_race[['LEAID']+cols].query('TOTAL >= 0'),\n",
        "                               on='LEAID',\n",
        "                               how='left',\n",
        "                               indicator=True)\n",
        "\n",
        "main_cut_demo['race_0_1'] = ['no fed cut' if x == 0.00 else 'fed cut' for x in main_cut_demo['cut_prop']]\n",
        "\n",
        "main_cut_demo_agg = main_cut_demo.groupby(['cut_prop'])[cols].agg('sum')\n",
        "main_cut_demo_agg['calcTotal'] =  (main_cut_demo_agg[['AM','AS','HI','BL','WH','HP','TR']].sum(axis=1))\n",
        "\n",
        "main_cut_demo_agg = main_cut_demo_agg.reset_index()\n",
        "main_cut_demo_agg['cut_prop'] = main_cut_demo_agg['cut_prop'].astype(str)"
      ],
      "execution_count": 0,
      "outputs": []
    },
    {
      "cell_type": "code",
      "metadata": {
        "id": "-jwlzzH3EGGI",
        "colab_type": "code",
        "colab": {},
        "cellView": "both"
      },
      "source": [
        "#@title\n",
        "main_cut_fed_demo_agg = main_cut_demo.groupby(['cut_prop'])[cols].agg('sum')\n",
        "main_cut_fed_demo_agg['calcTotal'] =  (main_cut_fed_demo_agg[['AM','AS','HI','BL','WH','HP','TR']].sum(axis=1))"
      ],
      "execution_count": 0,
      "outputs": []
    },
    {
      "cell_type": "code",
      "metadata": {
        "id": "oJCqiIGoEHTI",
        "colab_type": "code",
        "colab": {}
      },
      "source": [
        "main_cut_fed_demo_agg['tot_all'] = main_cut_fed_demo_agg['calcTotal'].sum()"
      ],
      "execution_count": 0,
      "outputs": []
    },
    {
      "cell_type": "code",
      "metadata": {
        "id": "T1RP8LjOdofh",
        "colab_type": "code",
        "outputId": "6dd69388-2461-4c25-df26-fed2e20d0ca7",
        "colab": {
          "base_uri": "https://localhost:8080/",
          "height": 542
        }
      },
      "source": [
        "import plotly.graph_objects as go\n",
        "\n",
        "x=['cut of 0.00', 'cut of 0.25 ', 'cut of 0.25', 'cut of 0.3']\n",
        "data = main_cut_fed_demo_agg.copy()\n",
        "fig = go.Figure()\n",
        "fig.add_trace(go.Bar(x=x, y=(data['AM']/data['calcTotal'])*100, name='American Indian/Alaska Native'))\n",
        "fig.add_trace(go.Bar(x=x, y=(data['HP']/data['calcTotal'])*100, name='Hawaiian Native / Pacific Islander'))\n",
        "fig.add_trace(go.Bar(x=x, y=(data['TR']/data['calcTotal'])*100, name='Two or More Races'))\n",
        "fig.add_trace(go.Bar(x=x, y=(data['AS']/data['calcTotal'])*100, name='Asian'))\n",
        "fig.add_trace(go.Bar(x=x, y=(data['HI']/data['calcTotal'])*100, name='Hispanic'))\n",
        "fig.add_trace(go.Bar(x=x, y=(data['BL']/data['calcTotal'])*100, name='Black'))\n",
        "fig.add_trace(go.Bar(x=x, y=(data['WH']/data['calcTotal'])*100, name='White'))\n",
        "\n",
        "fig.update_layout(barmode='stack', \n",
        "                  xaxis={'categoryorder':'category ascending'},\n",
        "                  title='Fed cut per race')\n",
        "fig.show()"
      ],
      "execution_count": 54,
      "outputs": [
        {
          "output_type": "display_data",
          "data": {
            "text/html": [
              "<html>\n",
              "<head><meta charset=\"utf-8\" /></head>\n",
              "<body>\n",
              "    <div>\n",
              "            <script src=\"https://cdnjs.cloudflare.com/ajax/libs/mathjax/2.7.5/MathJax.js?config=TeX-AMS-MML_SVG\"></script><script type=\"text/javascript\">if (window.MathJax) {MathJax.Hub.Config({SVG: {font: \"STIX-Web\"}});}</script>\n",
              "                <script type=\"text/javascript\">window.PlotlyConfig = {MathJaxConfig: 'local'};</script>\n",
              "        <script src=\"https://cdn.plot.ly/plotly-latest.min.js\"></script>    \n",
              "            <div id=\"82bdea79-9774-47dd-b05b-19faa51f4d4c\" class=\"plotly-graph-div\" style=\"height:525px; width:100%;\"></div>\n",
              "            <script type=\"text/javascript\">\n",
              "                \n",
              "                    window.PLOTLYENV=window.PLOTLYENV || {};\n",
              "                    \n",
              "                if (document.getElementById(\"82bdea79-9774-47dd-b05b-19faa51f4d4c\")) {\n",
              "                    Plotly.newPlot(\n",
              "                        '82bdea79-9774-47dd-b05b-19faa51f4d4c',\n",
              "                        [{\"name\": \"American Indian/Alaska Native\", \"type\": \"bar\", \"x\": [\"cut of 0.00\", \"cut of 0.25 \", \"cut of 0.25\", \"cut of 0.3\"], \"y\": [2.0727483094585835, 0.9021201301081493, 0.8151725441176544, 0.8411132259961034]}, {\"name\": \"Hawaiian Native / Pacific Islander\", \"type\": \"bar\", \"x\": [\"cut of 0.00\", \"cut of 0.25 \", \"cut of 0.25\", \"cut of 0.3\"], \"y\": [0.12551434170891204, 0.6093465767782862, 0.169525075500984, 0.12596565314634173]}, {\"name\": \"Two or More Races\", \"type\": \"bar\", \"x\": [\"cut of 0.00\", \"cut of 0.25 \", \"cut of 0.25\", \"cut of 0.3\"], \"y\": [2.3732932152167483, 3.686244287273202, 3.282092717252617, 3.567339001931738]}, {\"name\": \"Asian\", \"type\": \"bar\", \"x\": [\"cut of 0.00\", \"cut of 0.25 \", \"cut of 0.25\", \"cut of 0.3\"], \"y\": [2.125598447304624, 3.5181305585196325, 4.39102354753159, 6.7182948996094005]}, {\"name\": \"Hispanic\", \"type\": \"bar\", \"x\": [\"cut of 0.00\", \"cut of 0.25 \", \"cut of 0.25\", \"cut of 0.3\"], \"y\": [29.28299221947469, 19.581912350157932, 21.700618218062097, 23.287297429291428]}, {\"name\": \"Black\", \"type\": \"bar\", \"x\": [\"cut of 0.00\", \"cut of 0.25 \", \"cut of 0.25\", \"cut of 0.3\"], \"y\": [43.183411951859775, 21.19121110465014, 11.922212421900047, 9.044244031536863]}, {\"name\": \"White\", \"type\": \"bar\", \"x\": [\"cut of 0.00\", \"cut of 0.25 \", \"cut of 0.25\", \"cut of 0.3\"], \"y\": [20.83644151497667, 50.51103499251266, 57.719355475635005, 56.41574575848812]}],\n",
              "                        {\"barmode\": \"stack\", \"template\": {\"data\": {\"bar\": [{\"error_x\": {\"color\": \"#2a3f5f\"}, \"error_y\": {\"color\": \"#2a3f5f\"}, \"marker\": {\"line\": {\"color\": \"#E5ECF6\", \"width\": 0.5}}, \"type\": \"bar\"}], \"barpolar\": [{\"marker\": {\"line\": {\"color\": \"#E5ECF6\", \"width\": 0.5}}, \"type\": \"barpolar\"}], \"carpet\": [{\"aaxis\": {\"endlinecolor\": \"#2a3f5f\", \"gridcolor\": \"white\", \"linecolor\": \"white\", \"minorgridcolor\": \"white\", \"startlinecolor\": \"#2a3f5f\"}, \"baxis\": {\"endlinecolor\": \"#2a3f5f\", \"gridcolor\": \"white\", \"linecolor\": \"white\", \"minorgridcolor\": \"white\", \"startlinecolor\": \"#2a3f5f\"}, \"type\": \"carpet\"}], \"choropleth\": [{\"colorbar\": {\"outlinewidth\": 0, \"ticks\": \"\"}, \"type\": \"choropleth\"}], \"contour\": [{\"colorbar\": {\"outlinewidth\": 0, \"ticks\": \"\"}, \"colorscale\": [[0.0, \"#0d0887\"], [0.1111111111111111, \"#46039f\"], [0.2222222222222222, \"#7201a8\"], [0.3333333333333333, \"#9c179e\"], [0.4444444444444444, \"#bd3786\"], [0.5555555555555556, \"#d8576b\"], [0.6666666666666666, \"#ed7953\"], [0.7777777777777778, \"#fb9f3a\"], [0.8888888888888888, \"#fdca26\"], [1.0, \"#f0f921\"]], \"type\": \"contour\"}], \"contourcarpet\": [{\"colorbar\": {\"outlinewidth\": 0, \"ticks\": \"\"}, \"type\": \"contourcarpet\"}], \"heatmap\": [{\"colorbar\": {\"outlinewidth\": 0, \"ticks\": \"\"}, \"colorscale\": [[0.0, \"#0d0887\"], [0.1111111111111111, \"#46039f\"], [0.2222222222222222, \"#7201a8\"], [0.3333333333333333, \"#9c179e\"], [0.4444444444444444, \"#bd3786\"], [0.5555555555555556, \"#d8576b\"], [0.6666666666666666, \"#ed7953\"], [0.7777777777777778, \"#fb9f3a\"], [0.8888888888888888, \"#fdca26\"], [1.0, \"#f0f921\"]], \"type\": \"heatmap\"}], \"heatmapgl\": [{\"colorbar\": {\"outlinewidth\": 0, \"ticks\": \"\"}, \"colorscale\": [[0.0, \"#0d0887\"], [0.1111111111111111, \"#46039f\"], [0.2222222222222222, \"#7201a8\"], [0.3333333333333333, \"#9c179e\"], [0.4444444444444444, \"#bd3786\"], [0.5555555555555556, \"#d8576b\"], [0.6666666666666666, \"#ed7953\"], [0.7777777777777778, \"#fb9f3a\"], [0.8888888888888888, \"#fdca26\"], [1.0, \"#f0f921\"]], \"type\": \"heatmapgl\"}], \"histogram\": [{\"marker\": {\"colorbar\": {\"outlinewidth\": 0, \"ticks\": \"\"}}, \"type\": \"histogram\"}], \"histogram2d\": [{\"colorbar\": {\"outlinewidth\": 0, \"ticks\": \"\"}, \"colorscale\": [[0.0, \"#0d0887\"], [0.1111111111111111, \"#46039f\"], [0.2222222222222222, \"#7201a8\"], [0.3333333333333333, \"#9c179e\"], [0.4444444444444444, \"#bd3786\"], [0.5555555555555556, \"#d8576b\"], [0.6666666666666666, \"#ed7953\"], [0.7777777777777778, \"#fb9f3a\"], [0.8888888888888888, \"#fdca26\"], [1.0, \"#f0f921\"]], \"type\": \"histogram2d\"}], \"histogram2dcontour\": [{\"colorbar\": {\"outlinewidth\": 0, \"ticks\": \"\"}, \"colorscale\": [[0.0, \"#0d0887\"], [0.1111111111111111, \"#46039f\"], [0.2222222222222222, \"#7201a8\"], [0.3333333333333333, \"#9c179e\"], [0.4444444444444444, \"#bd3786\"], [0.5555555555555556, \"#d8576b\"], [0.6666666666666666, \"#ed7953\"], [0.7777777777777778, \"#fb9f3a\"], [0.8888888888888888, \"#fdca26\"], [1.0, \"#f0f921\"]], \"type\": \"histogram2dcontour\"}], \"mesh3d\": [{\"colorbar\": {\"outlinewidth\": 0, \"ticks\": \"\"}, \"type\": \"mesh3d\"}], \"parcoords\": [{\"line\": {\"colorbar\": {\"outlinewidth\": 0, \"ticks\": \"\"}}, \"type\": \"parcoords\"}], \"scatter\": [{\"marker\": {\"colorbar\": {\"outlinewidth\": 0, \"ticks\": \"\"}}, \"type\": \"scatter\"}], \"scatter3d\": [{\"line\": {\"colorbar\": {\"outlinewidth\": 0, \"ticks\": \"\"}}, \"marker\": {\"colorbar\": {\"outlinewidth\": 0, \"ticks\": \"\"}}, \"type\": \"scatter3d\"}], \"scattercarpet\": [{\"marker\": {\"colorbar\": {\"outlinewidth\": 0, \"ticks\": \"\"}}, \"type\": \"scattercarpet\"}], \"scattergeo\": [{\"marker\": {\"colorbar\": {\"outlinewidth\": 0, \"ticks\": \"\"}}, \"type\": \"scattergeo\"}], \"scattergl\": [{\"marker\": {\"colorbar\": {\"outlinewidth\": 0, \"ticks\": \"\"}}, \"type\": \"scattergl\"}], \"scattermapbox\": [{\"marker\": {\"colorbar\": {\"outlinewidth\": 0, \"ticks\": \"\"}}, \"type\": \"scattermapbox\"}], \"scatterpolar\": [{\"marker\": {\"colorbar\": {\"outlinewidth\": 0, \"ticks\": \"\"}}, \"type\": \"scatterpolar\"}], \"scatterpolargl\": [{\"marker\": {\"colorbar\": {\"outlinewidth\": 0, \"ticks\": \"\"}}, \"type\": \"scatterpolargl\"}], \"scatterternary\": [{\"marker\": {\"colorbar\": {\"outlinewidth\": 0, \"ticks\": \"\"}}, \"type\": \"scatterternary\"}], \"surface\": [{\"colorbar\": {\"outlinewidth\": 0, \"ticks\": \"\"}, \"colorscale\": [[0.0, \"#0d0887\"], [0.1111111111111111, \"#46039f\"], [0.2222222222222222, \"#7201a8\"], [0.3333333333333333, \"#9c179e\"], [0.4444444444444444, \"#bd3786\"], [0.5555555555555556, \"#d8576b\"], [0.6666666666666666, \"#ed7953\"], [0.7777777777777778, \"#fb9f3a\"], [0.8888888888888888, \"#fdca26\"], [1.0, \"#f0f921\"]], \"type\": \"surface\"}], \"table\": [{\"cells\": {\"fill\": {\"color\": \"#EBF0F8\"}, \"line\": {\"color\": \"white\"}}, \"header\": {\"fill\": {\"color\": \"#C8D4E3\"}, \"line\": {\"color\": \"white\"}}, \"type\": \"table\"}]}, \"layout\": {\"annotationdefaults\": {\"arrowcolor\": \"#2a3f5f\", \"arrowhead\": 0, \"arrowwidth\": 1}, \"colorscale\": {\"diverging\": [[0, \"#8e0152\"], [0.1, \"#c51b7d\"], [0.2, \"#de77ae\"], [0.3, \"#f1b6da\"], [0.4, \"#fde0ef\"], [0.5, \"#f7f7f7\"], [0.6, \"#e6f5d0\"], [0.7, \"#b8e186\"], [0.8, \"#7fbc41\"], [0.9, \"#4d9221\"], [1, \"#276419\"]], \"sequential\": [[0.0, \"#0d0887\"], [0.1111111111111111, \"#46039f\"], [0.2222222222222222, \"#7201a8\"], [0.3333333333333333, \"#9c179e\"], [0.4444444444444444, \"#bd3786\"], [0.5555555555555556, \"#d8576b\"], [0.6666666666666666, \"#ed7953\"], [0.7777777777777778, \"#fb9f3a\"], [0.8888888888888888, \"#fdca26\"], [1.0, \"#f0f921\"]], \"sequentialminus\": [[0.0, \"#0d0887\"], [0.1111111111111111, \"#46039f\"], [0.2222222222222222, \"#7201a8\"], [0.3333333333333333, \"#9c179e\"], [0.4444444444444444, \"#bd3786\"], [0.5555555555555556, \"#d8576b\"], [0.6666666666666666, \"#ed7953\"], [0.7777777777777778, \"#fb9f3a\"], [0.8888888888888888, \"#fdca26\"], [1.0, \"#f0f921\"]]}, \"colorway\": [\"#636efa\", \"#EF553B\", \"#00cc96\", \"#ab63fa\", \"#FFA15A\", \"#19d3f3\", \"#FF6692\", \"#B6E880\", \"#FF97FF\", \"#FECB52\"], \"font\": {\"color\": \"#2a3f5f\"}, \"geo\": {\"bgcolor\": \"white\", \"lakecolor\": \"white\", \"landcolor\": \"#E5ECF6\", \"showlakes\": true, \"showland\": true, \"subunitcolor\": \"white\"}, \"hoverlabel\": {\"align\": \"left\"}, \"hovermode\": \"closest\", \"mapbox\": {\"style\": \"light\"}, \"paper_bgcolor\": \"white\", \"plot_bgcolor\": \"#E5ECF6\", \"polar\": {\"angularaxis\": {\"gridcolor\": \"white\", \"linecolor\": \"white\", \"ticks\": \"\"}, \"bgcolor\": \"#E5ECF6\", \"radialaxis\": {\"gridcolor\": \"white\", \"linecolor\": \"white\", \"ticks\": \"\"}}, \"scene\": {\"xaxis\": {\"backgroundcolor\": \"#E5ECF6\", \"gridcolor\": \"white\", \"gridwidth\": 2, \"linecolor\": \"white\", \"showbackground\": true, \"ticks\": \"\", \"zerolinecolor\": \"white\"}, \"yaxis\": {\"backgroundcolor\": \"#E5ECF6\", \"gridcolor\": \"white\", \"gridwidth\": 2, \"linecolor\": \"white\", \"showbackground\": true, \"ticks\": \"\", \"zerolinecolor\": \"white\"}, \"zaxis\": {\"backgroundcolor\": \"#E5ECF6\", \"gridcolor\": \"white\", \"gridwidth\": 2, \"linecolor\": \"white\", \"showbackground\": true, \"ticks\": \"\", \"zerolinecolor\": \"white\"}}, \"shapedefaults\": {\"line\": {\"color\": \"#2a3f5f\"}}, \"ternary\": {\"aaxis\": {\"gridcolor\": \"white\", \"linecolor\": \"white\", \"ticks\": \"\"}, \"baxis\": {\"gridcolor\": \"white\", \"linecolor\": \"white\", \"ticks\": \"\"}, \"bgcolor\": \"#E5ECF6\", \"caxis\": {\"gridcolor\": \"white\", \"linecolor\": \"white\", \"ticks\": \"\"}}, \"title\": {\"x\": 0.05}, \"xaxis\": {\"automargin\": true, \"gridcolor\": \"white\", \"linecolor\": \"white\", \"ticks\": \"\", \"zerolinecolor\": \"white\", \"zerolinewidth\": 2}, \"yaxis\": {\"automargin\": true, \"gridcolor\": \"white\", \"linecolor\": \"white\", \"ticks\": \"\", \"zerolinecolor\": \"white\", \"zerolinewidth\": 2}}}, \"title\": {\"text\": \"Fed cut per race\"}, \"xaxis\": {\"categoryorder\": \"category ascending\"}},\n",
              "                        {\"responsive\": true}\n",
              "                    ).then(function(){\n",
              "                            \n",
              "var gd = document.getElementById('82bdea79-9774-47dd-b05b-19faa51f4d4c');\n",
              "var x = new MutationObserver(function (mutations, observer) {{\n",
              "        var display = window.getComputedStyle(gd).display;\n",
              "        if (!display || display === 'none') {{\n",
              "            console.log([gd, 'removed!']);\n",
              "            Plotly.purge(gd);\n",
              "            observer.disconnect();\n",
              "        }}\n",
              "}});\n",
              "\n",
              "// Listen for the removal of the full notebook cells\n",
              "var notebookContainer = gd.closest('#notebook-container');\n",
              "if (notebookContainer) {{\n",
              "    x.observe(notebookContainer, {childList: true});\n",
              "}}\n",
              "\n",
              "// Listen for the clearing of the current output cell\n",
              "var outputEl = gd.closest('.output');\n",
              "if (outputEl) {{\n",
              "    x.observe(outputEl, {childList: true});\n",
              "}}\n",
              "\n",
              "                        })\n",
              "                };\n",
              "                \n",
              "            </script>\n",
              "        </div>\n",
              "</body>\n",
              "</html>"
            ]
          },
          "metadata": {
            "tags": []
          }
        }
      ]
    },
    {
      "cell_type": "markdown",
      "metadata": {
        "id": "GNiHsrOSGcDk",
        "colab_type": "text"
      },
      "source": [
        "\n",
        "Comment on whether the the distributions appear to be the same or different. Did your selection include any\n",
        "hidden biases, or manage to avoid them?"
      ]
    },
    {
      "cell_type": "markdown",
      "metadata": {
        "id": "fCxcsCP1GDOC",
        "colab_type": "text"
      },
      "source": [
        "#####**Solution**\n",
        "\n",
        "The distribution does look different. We see that `white` category are the ones are the one most affected by the fed cut. And `black` category are the one's relatively less affected by the cut in funds. While hispanic community has equal distribution."
      ]
    },
    {
      "cell_type": "markdown",
      "metadata": {
        "id": "qbVHTzvI3gPH",
        "colab_type": "text"
      },
      "source": [
        "#####**Problem 3**\n",
        "Calculate the proportion of enrolled students by disability status (students with an IEP under IDEA) for each\n",
        "district, then visualize the distributions of these proportions for districts that received budget cuts versus\n",
        "districts that did not receive budget cuts."
      ]
    },
    {
      "cell_type": "code",
      "metadata": {
        "id": "az1ZeUtAkvnG",
        "colab_type": "code",
        "colab": {},
        "cellView": "form"
      },
      "source": [
        "#@title\n",
        "demo_disb = pd.merge(disb, demo[['LEAID', 'TOTAL']], on='LEAID', how='inner')\n",
        "\n",
        "cols = ['SPECED','TOTAL']\n",
        "disb_lvl = demo_disb[['LEAID']+cols]\n",
        "\n",
        "main_cut['LEAID'] = main_cut['LEAID'].astype(str)\n",
        "disb_lvl['LEAID'] = demo_race['LEAID'].astype(str)\n",
        "\n",
        "main_cut_disb = main_cut.merge(disb_lvl[['LEAID']+cols],\n",
        "                               on='LEAID',\n",
        "                               how='left',\n",
        "                               indicator=True).query('TOTAL >= 0 and SPECED>0')\n",
        "\n",
        "main_disb_agg = main_cut_disb.groupby(['STNAME'])['SPECED','TOTAL'].agg('sum').reset_index()\n",
        "main_disb_agg['Proportion'] = main_disb_agg['SPECED']/main_disb_agg['TOTAL']"
      ],
      "execution_count": 0,
      "outputs": []
    },
    {
      "cell_type": "code",
      "metadata": {
        "id": "215Uz2at0KbO",
        "colab_type": "code",
        "colab": {
          "base_uri": "https://localhost:8080/",
          "height": 517
        },
        "cellView": "form",
        "outputId": "08795228-4965-46a8-cfc0-1824bd578e76"
      },
      "source": [
        "#@title\n",
        "import plotly.graph_objects as go\n",
        "\n",
        "from plotly.subplots import make_subplots\n",
        "\n",
        "fig = make_subplots(specs=[[{\"secondary_y\": True}]])\n",
        "\n",
        "fig.add_trace(go.Bar(name='Disability',  x=main_disb_agg['STNAME'], y=main_disb_agg['SPECED']))\n",
        "fig.add_trace(go.Bar(name='Total',  x=main_disb_agg['STNAME'], y=main_disb_agg['TOTAL']))\n",
        "fig.add_trace(go.Scatter(name='Pecentage of Disbabled',x=main_disb_agg['STNAME'], y=main_disb_agg['Proportion'],mode='lines'),secondary_y=True)\n",
        "\n",
        "# Change the bar mode\n",
        "fig.update_layout(barmode='stack')\n",
        "\n",
        "# Add figure title\n",
        "fig.update_layout(title_text=\"Disability Status\",width=1000, height=500)\n",
        "\n",
        "# Set x-axis title\n",
        "fig.update_xaxes(title_text=\"States\")\n",
        "\n",
        "# Set y-axes titles\n",
        "fig.update_yaxes(title_text=\"Number of students\", secondary_y=False)\n",
        "fig.update_yaxes(title_text=\"Percentage with disability\", secondary_y=True)\n",
        "\n",
        "fig.show()"
      ],
      "execution_count": 63,
      "outputs": [
        {
          "output_type": "display_data",
          "data": {
            "text/html": [
              "<html>\n",
              "<head><meta charset=\"utf-8\" /></head>\n",
              "<body>\n",
              "    <div>\n",
              "            <script src=\"https://cdnjs.cloudflare.com/ajax/libs/mathjax/2.7.5/MathJax.js?config=TeX-AMS-MML_SVG\"></script><script type=\"text/javascript\">if (window.MathJax) {MathJax.Hub.Config({SVG: {font: \"STIX-Web\"}});}</script>\n",
              "                <script type=\"text/javascript\">window.PlotlyConfig = {MathJaxConfig: 'local'};</script>\n",
              "        <script src=\"https://cdn.plot.ly/plotly-latest.min.js\"></script>    \n",
              "            <div id=\"dc48e088-8104-47e3-a8b4-d32e662cf91b\" class=\"plotly-graph-div\" style=\"height:500px; width:1000px;\"></div>\n",
              "            <script type=\"text/javascript\">\n",
              "                \n",
              "                    window.PLOTLYENV=window.PLOTLYENV || {};\n",
              "                    \n",
              "                if (document.getElementById(\"dc48e088-8104-47e3-a8b4-d32e662cf91b\")) {\n",
              "                    Plotly.newPlot(\n",
              "                        'dc48e088-8104-47e3-a8b4-d32e662cf91b',\n",
              "                        [{\"name\": \"Disability\", \"type\": \"bar\", \"x\": [\"Delaware\", \"District of Columbia\", \"Florida\", \"Georgia\", \"Hawaii\", \"Idaho\", \"Illinois\", \"Indiana\", \"Iowa\", \"Kansas\", \"Kentucky\", \"Louisiana\", \"Maine\", \"Maryland\", \"Massachusetts\", \"Michigan\", \"Minnesota\", \"Mississippi\", \"Missouri\", \"Montana\", \"Nebraska\", \"Nevada\", \"New Hampshire\", \"New Jersey\", \"New Mexico\", \"New York\", \"North Carolina\", \"North Dakota\", \"Ohio\", \"Oklahoma\", \"Oregon\", \"Pennsylvania\", \"Rhode Island\", \"South Carolina\", \"South Dakota\", \"Tennessee\", \"Texas\", \"Utah\", \"Vermont\", \"Virginia\", \"Washington\", \"Wisconsin\", \"Wyoming\"], \"y\": [20656.0, 12103.0, 371177.0, 202195.0, 19223.0, 29537.0, 296690.0, 170345.0, 63627.0, 70527.0, 99125.0, 95843.0, 30001.0, 104618.0, 168169.0, 196939.0, 128083.0, 65757.0, 125823.0, 16160.0, 47795.0, 55454.0, 28609.0, 231519.0, 49593.0, 497739.0, 198524.0, 13938.0, 252738.0, 108301.0, 83932.0, 302438.0, 23447.0, 101662.0, 19423.0, 128760.0, 463153.0, 79932.0, 13462.0, 164367.0, 135681.0, 120447.0, 13066.0]}, {\"name\": \"Total\", \"type\": \"bar\", \"x\": [\"Delaware\", \"District of Columbia\", \"Florida\", \"Georgia\", \"Hawaii\", \"Idaho\", \"Illinois\", \"Indiana\", \"Iowa\", \"Kansas\", \"Kentucky\", \"Louisiana\", \"Maine\", \"Maryland\", \"Massachusetts\", \"Michigan\", \"Minnesota\", \"Mississippi\", \"Missouri\", \"Montana\", \"Nebraska\", \"Nevada\", \"New Hampshire\", \"New Jersey\", \"New Mexico\", \"New York\", \"North Carolina\", \"North Dakota\", \"Ohio\", \"Oklahoma\", \"Oregon\", \"Pennsylvania\", \"Rhode Island\", \"South Carolina\", \"South Dakota\", \"Tennessee\", \"Texas\", \"Utah\", \"Vermont\", \"Virginia\", \"Washington\", \"Wisconsin\", \"Wyoming\"], \"y\": [132518.0, 82753.0, 2792234.0, 1757118.0, 181995.0, 292152.0, 2032667.0, 1040960.0, 507933.0, 495545.0, 686440.0, 714238.0, 179658.0, 879601.0, 963765.0, 1525441.0, 860910.0, 481602.0, 918273.0, 134207.0, 315668.0, 467527.0, 179682.0, 1407097.0, 335410.0, 2589560.0, 1544672.0, 107937.0, 1704283.0, 692449.0, 574169.0, 1702516.0, 141846.0, 762827.0, 134037.0, 998850.0, 5300585.0, 647722.0, 85128.0, 1283590.0, 1084401.0, 866142.0, 94511.0]}, {\"mode\": \"lines\", \"name\": \"Pecentage of Disbabled\", \"type\": \"scatter\", \"x\": [\"Delaware\", \"District of Columbia\", \"Florida\", \"Georgia\", \"Hawaii\", \"Idaho\", \"Illinois\", \"Indiana\", \"Iowa\", \"Kansas\", \"Kentucky\", \"Louisiana\", \"Maine\", \"Maryland\", \"Massachusetts\", \"Michigan\", \"Minnesota\", \"Mississippi\", \"Missouri\", \"Montana\", \"Nebraska\", \"Nevada\", \"New Hampshire\", \"New Jersey\", \"New Mexico\", \"New York\", \"North Carolina\", \"North Dakota\", \"Ohio\", \"Oklahoma\", \"Oregon\", \"Pennsylvania\", \"Rhode Island\", \"South Carolina\", \"South Dakota\", \"Tennessee\", \"Texas\", \"Utah\", \"Vermont\", \"Virginia\", \"Washington\", \"Wisconsin\", \"Wyoming\"], \"xaxis\": \"x\", \"y\": [0.15587316440030788, 0.14625451645257573, 0.13293191043444066, 0.11507195305039275, 0.10562378087310091, 0.10110148142063036, 0.14596094687422978, 0.1636422148785736, 0.12526652137191321, 0.14232208982029887, 0.14440446360934678, 0.13418916383614427, 0.16698950227654766, 0.11893801848792805, 0.17449170700326325, 0.12910299382276993, 0.1487762948507974, 0.1365380542439608, 0.13702134332600435, 0.1204110068774356, 0.15140907535765424, 0.1186113315380716, 0.1592201778697922, 0.16453663109224168, 0.14785784562177634, 0.19220987349202182, 0.12852178326531458, 0.1291308819033325, 0.14829579359765954, 0.1564028542174225, 0.1461799574689682, 0.17764179602423708, 0.16529898622449699, 0.13327005992184335, 0.14490774935279066, 0.12890824448115332, 0.08737771396930716, 0.12340479403200756, 0.1581383328634527, 0.12805257130392103, 0.12512068874890378, 0.13906149338099297, 0.13824845785146703], \"yaxis\": \"y2\"}],\n",
              "                        {\"barmode\": \"stack\", \"height\": 500, \"template\": {\"data\": {\"bar\": [{\"error_x\": {\"color\": \"#2a3f5f\"}, \"error_y\": {\"color\": \"#2a3f5f\"}, \"marker\": {\"line\": {\"color\": \"#E5ECF6\", \"width\": 0.5}}, \"type\": \"bar\"}], \"barpolar\": [{\"marker\": {\"line\": {\"color\": \"#E5ECF6\", \"width\": 0.5}}, \"type\": \"barpolar\"}], \"carpet\": [{\"aaxis\": {\"endlinecolor\": \"#2a3f5f\", \"gridcolor\": \"white\", \"linecolor\": \"white\", \"minorgridcolor\": \"white\", \"startlinecolor\": \"#2a3f5f\"}, \"baxis\": {\"endlinecolor\": \"#2a3f5f\", \"gridcolor\": \"white\", \"linecolor\": \"white\", \"minorgridcolor\": \"white\", \"startlinecolor\": \"#2a3f5f\"}, \"type\": \"carpet\"}], \"choropleth\": [{\"colorbar\": {\"outlinewidth\": 0, \"ticks\": \"\"}, \"type\": \"choropleth\"}], \"contour\": [{\"colorbar\": {\"outlinewidth\": 0, \"ticks\": \"\"}, \"colorscale\": [[0.0, \"#0d0887\"], [0.1111111111111111, \"#46039f\"], [0.2222222222222222, \"#7201a8\"], [0.3333333333333333, \"#9c179e\"], [0.4444444444444444, \"#bd3786\"], [0.5555555555555556, \"#d8576b\"], [0.6666666666666666, \"#ed7953\"], [0.7777777777777778, \"#fb9f3a\"], [0.8888888888888888, \"#fdca26\"], [1.0, \"#f0f921\"]], \"type\": \"contour\"}], \"contourcarpet\": [{\"colorbar\": {\"outlinewidth\": 0, \"ticks\": \"\"}, \"type\": \"contourcarpet\"}], \"heatmap\": [{\"colorbar\": {\"outlinewidth\": 0, \"ticks\": \"\"}, \"colorscale\": [[0.0, \"#0d0887\"], [0.1111111111111111, \"#46039f\"], [0.2222222222222222, \"#7201a8\"], [0.3333333333333333, \"#9c179e\"], [0.4444444444444444, \"#bd3786\"], [0.5555555555555556, \"#d8576b\"], [0.6666666666666666, \"#ed7953\"], [0.7777777777777778, \"#fb9f3a\"], [0.8888888888888888, \"#fdca26\"], [1.0, \"#f0f921\"]], \"type\": \"heatmap\"}], \"heatmapgl\": [{\"colorbar\": {\"outlinewidth\": 0, \"ticks\": \"\"}, \"colorscale\": [[0.0, \"#0d0887\"], [0.1111111111111111, \"#46039f\"], [0.2222222222222222, \"#7201a8\"], [0.3333333333333333, \"#9c179e\"], [0.4444444444444444, \"#bd3786\"], [0.5555555555555556, \"#d8576b\"], [0.6666666666666666, \"#ed7953\"], [0.7777777777777778, \"#fb9f3a\"], [0.8888888888888888, \"#fdca26\"], [1.0, \"#f0f921\"]], \"type\": \"heatmapgl\"}], \"histogram\": [{\"marker\": {\"colorbar\": {\"outlinewidth\": 0, \"ticks\": \"\"}}, \"type\": \"histogram\"}], \"histogram2d\": [{\"colorbar\": {\"outlinewidth\": 0, \"ticks\": \"\"}, \"colorscale\": [[0.0, \"#0d0887\"], [0.1111111111111111, \"#46039f\"], [0.2222222222222222, \"#7201a8\"], [0.3333333333333333, \"#9c179e\"], [0.4444444444444444, \"#bd3786\"], [0.5555555555555556, \"#d8576b\"], [0.6666666666666666, \"#ed7953\"], [0.7777777777777778, \"#fb9f3a\"], [0.8888888888888888, \"#fdca26\"], [1.0, \"#f0f921\"]], \"type\": \"histogram2d\"}], \"histogram2dcontour\": [{\"colorbar\": {\"outlinewidth\": 0, \"ticks\": \"\"}, \"colorscale\": [[0.0, \"#0d0887\"], [0.1111111111111111, \"#46039f\"], [0.2222222222222222, \"#7201a8\"], [0.3333333333333333, \"#9c179e\"], [0.4444444444444444, \"#bd3786\"], [0.5555555555555556, \"#d8576b\"], [0.6666666666666666, \"#ed7953\"], [0.7777777777777778, \"#fb9f3a\"], [0.8888888888888888, \"#fdca26\"], [1.0, \"#f0f921\"]], \"type\": \"histogram2dcontour\"}], \"mesh3d\": [{\"colorbar\": {\"outlinewidth\": 0, \"ticks\": \"\"}, \"type\": \"mesh3d\"}], \"parcoords\": [{\"line\": {\"colorbar\": {\"outlinewidth\": 0, \"ticks\": \"\"}}, \"type\": \"parcoords\"}], \"scatter\": [{\"marker\": {\"colorbar\": {\"outlinewidth\": 0, \"ticks\": \"\"}}, \"type\": \"scatter\"}], \"scatter3d\": [{\"line\": {\"colorbar\": {\"outlinewidth\": 0, \"ticks\": \"\"}}, \"marker\": {\"colorbar\": {\"outlinewidth\": 0, \"ticks\": \"\"}}, \"type\": \"scatter3d\"}], \"scattercarpet\": [{\"marker\": {\"colorbar\": {\"outlinewidth\": 0, \"ticks\": \"\"}}, \"type\": \"scattercarpet\"}], \"scattergeo\": [{\"marker\": {\"colorbar\": {\"outlinewidth\": 0, \"ticks\": \"\"}}, \"type\": \"scattergeo\"}], \"scattergl\": [{\"marker\": {\"colorbar\": {\"outlinewidth\": 0, \"ticks\": \"\"}}, \"type\": \"scattergl\"}], \"scattermapbox\": [{\"marker\": {\"colorbar\": {\"outlinewidth\": 0, \"ticks\": \"\"}}, \"type\": \"scattermapbox\"}], \"scatterpolar\": [{\"marker\": {\"colorbar\": {\"outlinewidth\": 0, \"ticks\": \"\"}}, \"type\": \"scatterpolar\"}], \"scatterpolargl\": [{\"marker\": {\"colorbar\": {\"outlinewidth\": 0, \"ticks\": \"\"}}, \"type\": \"scatterpolargl\"}], \"scatterternary\": [{\"marker\": {\"colorbar\": {\"outlinewidth\": 0, \"ticks\": \"\"}}, \"type\": \"scatterternary\"}], \"surface\": [{\"colorbar\": {\"outlinewidth\": 0, \"ticks\": \"\"}, \"colorscale\": [[0.0, \"#0d0887\"], [0.1111111111111111, \"#46039f\"], [0.2222222222222222, \"#7201a8\"], [0.3333333333333333, \"#9c179e\"], [0.4444444444444444, \"#bd3786\"], [0.5555555555555556, \"#d8576b\"], [0.6666666666666666, \"#ed7953\"], [0.7777777777777778, \"#fb9f3a\"], [0.8888888888888888, \"#fdca26\"], [1.0, \"#f0f921\"]], \"type\": \"surface\"}], \"table\": [{\"cells\": {\"fill\": {\"color\": \"#EBF0F8\"}, \"line\": {\"color\": \"white\"}}, \"header\": {\"fill\": {\"color\": \"#C8D4E3\"}, \"line\": {\"color\": \"white\"}}, \"type\": \"table\"}]}, \"layout\": {\"annotationdefaults\": {\"arrowcolor\": \"#2a3f5f\", \"arrowhead\": 0, \"arrowwidth\": 1}, \"colorscale\": {\"diverging\": [[0, \"#8e0152\"], [0.1, \"#c51b7d\"], [0.2, \"#de77ae\"], [0.3, \"#f1b6da\"], [0.4, \"#fde0ef\"], [0.5, \"#f7f7f7\"], [0.6, \"#e6f5d0\"], [0.7, \"#b8e186\"], [0.8, \"#7fbc41\"], [0.9, \"#4d9221\"], [1, \"#276419\"]], \"sequential\": [[0.0, \"#0d0887\"], [0.1111111111111111, \"#46039f\"], [0.2222222222222222, \"#7201a8\"], [0.3333333333333333, \"#9c179e\"], [0.4444444444444444, \"#bd3786\"], [0.5555555555555556, \"#d8576b\"], [0.6666666666666666, \"#ed7953\"], [0.7777777777777778, \"#fb9f3a\"], [0.8888888888888888, \"#fdca26\"], [1.0, \"#f0f921\"]], \"sequentialminus\": [[0.0, \"#0d0887\"], [0.1111111111111111, \"#46039f\"], [0.2222222222222222, \"#7201a8\"], [0.3333333333333333, \"#9c179e\"], [0.4444444444444444, \"#bd3786\"], [0.5555555555555556, \"#d8576b\"], [0.6666666666666666, \"#ed7953\"], [0.7777777777777778, \"#fb9f3a\"], [0.8888888888888888, \"#fdca26\"], [1.0, \"#f0f921\"]]}, \"colorway\": [\"#636efa\", \"#EF553B\", \"#00cc96\", \"#ab63fa\", \"#FFA15A\", \"#19d3f3\", \"#FF6692\", \"#B6E880\", \"#FF97FF\", \"#FECB52\"], \"font\": {\"color\": \"#2a3f5f\"}, \"geo\": {\"bgcolor\": \"white\", \"lakecolor\": \"white\", \"landcolor\": \"#E5ECF6\", \"showlakes\": true, \"showland\": true, \"subunitcolor\": \"white\"}, \"hoverlabel\": {\"align\": \"left\"}, \"hovermode\": \"closest\", \"mapbox\": {\"style\": \"light\"}, \"paper_bgcolor\": \"white\", \"plot_bgcolor\": \"#E5ECF6\", \"polar\": {\"angularaxis\": {\"gridcolor\": \"white\", \"linecolor\": \"white\", \"ticks\": \"\"}, \"bgcolor\": \"#E5ECF6\", \"radialaxis\": {\"gridcolor\": \"white\", \"linecolor\": \"white\", \"ticks\": \"\"}}, \"scene\": {\"xaxis\": {\"backgroundcolor\": \"#E5ECF6\", \"gridcolor\": \"white\", \"gridwidth\": 2, \"linecolor\": \"white\", \"showbackground\": true, \"ticks\": \"\", \"zerolinecolor\": \"white\"}, \"yaxis\": {\"backgroundcolor\": \"#E5ECF6\", \"gridcolor\": \"white\", \"gridwidth\": 2, \"linecolor\": \"white\", \"showbackground\": true, \"ticks\": \"\", \"zerolinecolor\": \"white\"}, \"zaxis\": {\"backgroundcolor\": \"#E5ECF6\", \"gridcolor\": \"white\", \"gridwidth\": 2, \"linecolor\": \"white\", \"showbackground\": true, \"ticks\": \"\", \"zerolinecolor\": \"white\"}}, \"shapedefaults\": {\"line\": {\"color\": \"#2a3f5f\"}}, \"ternary\": {\"aaxis\": {\"gridcolor\": \"white\", \"linecolor\": \"white\", \"ticks\": \"\"}, \"baxis\": {\"gridcolor\": \"white\", \"linecolor\": \"white\", \"ticks\": \"\"}, \"bgcolor\": \"#E5ECF6\", \"caxis\": {\"gridcolor\": \"white\", \"linecolor\": \"white\", \"ticks\": \"\"}}, \"title\": {\"x\": 0.05}, \"xaxis\": {\"automargin\": true, \"gridcolor\": \"white\", \"linecolor\": \"white\", \"ticks\": \"\", \"zerolinecolor\": \"white\", \"zerolinewidth\": 2}, \"yaxis\": {\"automargin\": true, \"gridcolor\": \"white\", \"linecolor\": \"white\", \"ticks\": \"\", \"zerolinecolor\": \"white\", \"zerolinewidth\": 2}}}, \"title\": {\"text\": \"Disability Status\"}, \"width\": 1000, \"xaxis\": {\"anchor\": \"y\", \"domain\": [0.0, 0.94], \"title\": {\"text\": \"States\"}}, \"yaxis\": {\"anchor\": \"x\", \"domain\": [0.0, 1.0], \"title\": {\"text\": \"Number of students\"}}, \"yaxis2\": {\"anchor\": \"x\", \"overlaying\": \"y\", \"side\": \"right\", \"title\": {\"text\": \"Percentage with disability\"}}},\n",
              "                        {\"responsive\": true}\n",
              "                    ).then(function(){\n",
              "                            \n",
              "var gd = document.getElementById('dc48e088-8104-47e3-a8b4-d32e662cf91b');\n",
              "var x = new MutationObserver(function (mutations, observer) {{\n",
              "        var display = window.getComputedStyle(gd).display;\n",
              "        if (!display || display === 'none') {{\n",
              "            console.log([gd, 'removed!']);\n",
              "            Plotly.purge(gd);\n",
              "            observer.disconnect();\n",
              "        }}\n",
              "}});\n",
              "\n",
              "// Listen for the removal of the full notebook cells\n",
              "var notebookContainer = gd.closest('#notebook-container');\n",
              "if (notebookContainer) {{\n",
              "    x.observe(notebookContainer, {childList: true});\n",
              "}}\n",
              "\n",
              "// Listen for the clearing of the current output cell\n",
              "var outputEl = gd.closest('.output');\n",
              "if (outputEl) {{\n",
              "    x.observe(outputEl, {childList: true});\n",
              "}}\n",
              "\n",
              "                        })\n",
              "                };\n",
              "                \n",
              "            </script>\n",
              "        </div>\n",
              "</body>\n",
              "</html>"
            ]
          },
          "metadata": {
            "tags": []
          }
        }
      ]
    },
    {
      "cell_type": "code",
      "metadata": {
        "id": "HwRG7ytH-ZZ6",
        "colab_type": "code",
        "colab": {},
        "cellView": "form"
      },
      "source": [
        "#@title\n",
        "main_cut_disb['disb_0_1'] = ['fed_cut' if x == 0.00 else 'no fed_cut' for x in main_cut_disb['cut_prop']]\n",
        "main_cut_disb_agg = main_cut_disb.groupby(['disb_0_1'])[cols].agg('sum').reset_index()\n",
        "main_cut_disb_agg['tot_sum']= main_cut_disb_agg[\"TOTAL\"].sum()"
      ],
      "execution_count": 0,
      "outputs": []
    },
    {
      "cell_type": "code",
      "metadata": {
        "id": "6SBn8jsRyyUA",
        "colab_type": "code",
        "outputId": "7339a836-e40e-42f4-d9bf-03ef9dc51da8",
        "colab": {
          "base_uri": "https://localhost:8080/",
          "height": 417
        },
        "cellView": "form"
      },
      "source": [
        "#@title\n",
        "import plotly.graph_objects as go\n",
        "\n",
        "# x=['cut of 0', 'cut of 0.15', 'cut of 0.25', 'cut of 0.3']\n",
        "\n",
        "data = main_cut_disb_agg.copy()\n",
        "fig = go.Figure()\n",
        "fig.add_trace(go.Bar(x=data['disb_0_1'], y=(data['SPECED']/data['SPECED'].sum())))\n",
        "\n",
        "# Add figure title\n",
        "fig.update_layout(title_text=\"Percentage with Disability Status per Fed Cut\")\n",
        "\n",
        "# Set x-axis title\n",
        "fig.update_xaxes(title_text=\"Percentage of federal cut\")\n",
        "\n",
        "# Set y-axes titles\n",
        "fig.update_yaxes(title_text=\"Percentage of disabled students\")\n",
        "\n",
        "\n",
        "fig.update_layout(barmode='stack', xaxis={'categoryorder':'category ascending'},width=600, height=400)\n",
        "fig.show()"
      ],
      "execution_count": 65,
      "outputs": [
        {
          "output_type": "display_data",
          "data": {
            "text/html": [
              "<html>\n",
              "<head><meta charset=\"utf-8\" /></head>\n",
              "<body>\n",
              "    <div>\n",
              "            <script src=\"https://cdnjs.cloudflare.com/ajax/libs/mathjax/2.7.5/MathJax.js?config=TeX-AMS-MML_SVG\"></script><script type=\"text/javascript\">if (window.MathJax) {MathJax.Hub.Config({SVG: {font: \"STIX-Web\"}});}</script>\n",
              "                <script type=\"text/javascript\">window.PlotlyConfig = {MathJaxConfig: 'local'};</script>\n",
              "        <script src=\"https://cdn.plot.ly/plotly-latest.min.js\"></script>    \n",
              "            <div id=\"9974013e-4b68-4237-83af-ddcd6812f64d\" class=\"plotly-graph-div\" style=\"height:400px; width:600px;\"></div>\n",
              "            <script type=\"text/javascript\">\n",
              "                \n",
              "                    window.PLOTLYENV=window.PLOTLYENV || {};\n",
              "                    \n",
              "                if (document.getElementById(\"9974013e-4b68-4237-83af-ddcd6812f64d\")) {\n",
              "                    Plotly.newPlot(\n",
              "                        '9974013e-4b68-4237-83af-ddcd6812f64d',\n",
              "                        [{\"type\": \"bar\", \"x\": [\"fed_cut\", \"no fed_cut\"], \"y\": [0.07496396140780559, 0.9250360385921944]}],\n",
              "                        {\"barmode\": \"stack\", \"height\": 400, \"template\": {\"data\": {\"bar\": [{\"error_x\": {\"color\": \"#2a3f5f\"}, \"error_y\": {\"color\": \"#2a3f5f\"}, \"marker\": {\"line\": {\"color\": \"#E5ECF6\", \"width\": 0.5}}, \"type\": \"bar\"}], \"barpolar\": [{\"marker\": {\"line\": {\"color\": \"#E5ECF6\", \"width\": 0.5}}, \"type\": \"barpolar\"}], \"carpet\": [{\"aaxis\": {\"endlinecolor\": \"#2a3f5f\", \"gridcolor\": \"white\", \"linecolor\": \"white\", \"minorgridcolor\": \"white\", \"startlinecolor\": \"#2a3f5f\"}, \"baxis\": {\"endlinecolor\": \"#2a3f5f\", \"gridcolor\": \"white\", \"linecolor\": \"white\", \"minorgridcolor\": \"white\", \"startlinecolor\": \"#2a3f5f\"}, \"type\": \"carpet\"}], \"choropleth\": [{\"colorbar\": {\"outlinewidth\": 0, \"ticks\": \"\"}, \"type\": \"choropleth\"}], \"contour\": [{\"colorbar\": {\"outlinewidth\": 0, \"ticks\": \"\"}, \"colorscale\": [[0.0, \"#0d0887\"], [0.1111111111111111, \"#46039f\"], [0.2222222222222222, \"#7201a8\"], [0.3333333333333333, \"#9c179e\"], [0.4444444444444444, \"#bd3786\"], [0.5555555555555556, \"#d8576b\"], [0.6666666666666666, \"#ed7953\"], [0.7777777777777778, \"#fb9f3a\"], [0.8888888888888888, \"#fdca26\"], [1.0, \"#f0f921\"]], \"type\": \"contour\"}], \"contourcarpet\": [{\"colorbar\": {\"outlinewidth\": 0, \"ticks\": \"\"}, \"type\": \"contourcarpet\"}], \"heatmap\": [{\"colorbar\": {\"outlinewidth\": 0, \"ticks\": \"\"}, \"colorscale\": [[0.0, \"#0d0887\"], [0.1111111111111111, \"#46039f\"], [0.2222222222222222, \"#7201a8\"], [0.3333333333333333, \"#9c179e\"], [0.4444444444444444, \"#bd3786\"], [0.5555555555555556, \"#d8576b\"], [0.6666666666666666, \"#ed7953\"], [0.7777777777777778, \"#fb9f3a\"], [0.8888888888888888, \"#fdca26\"], [1.0, \"#f0f921\"]], \"type\": \"heatmap\"}], \"heatmapgl\": [{\"colorbar\": {\"outlinewidth\": 0, \"ticks\": \"\"}, \"colorscale\": [[0.0, \"#0d0887\"], [0.1111111111111111, \"#46039f\"], [0.2222222222222222, \"#7201a8\"], [0.3333333333333333, \"#9c179e\"], [0.4444444444444444, \"#bd3786\"], [0.5555555555555556, \"#d8576b\"], [0.6666666666666666, \"#ed7953\"], [0.7777777777777778, \"#fb9f3a\"], [0.8888888888888888, \"#fdca26\"], [1.0, \"#f0f921\"]], \"type\": \"heatmapgl\"}], \"histogram\": [{\"marker\": {\"colorbar\": {\"outlinewidth\": 0, \"ticks\": \"\"}}, \"type\": \"histogram\"}], \"histogram2d\": [{\"colorbar\": {\"outlinewidth\": 0, \"ticks\": \"\"}, \"colorscale\": [[0.0, \"#0d0887\"], [0.1111111111111111, \"#46039f\"], [0.2222222222222222, \"#7201a8\"], [0.3333333333333333, \"#9c179e\"], [0.4444444444444444, \"#bd3786\"], [0.5555555555555556, \"#d8576b\"], [0.6666666666666666, \"#ed7953\"], [0.7777777777777778, \"#fb9f3a\"], [0.8888888888888888, \"#fdca26\"], [1.0, \"#f0f921\"]], \"type\": \"histogram2d\"}], \"histogram2dcontour\": [{\"colorbar\": {\"outlinewidth\": 0, \"ticks\": \"\"}, \"colorscale\": [[0.0, \"#0d0887\"], [0.1111111111111111, \"#46039f\"], [0.2222222222222222, \"#7201a8\"], [0.3333333333333333, \"#9c179e\"], [0.4444444444444444, \"#bd3786\"], [0.5555555555555556, \"#d8576b\"], [0.6666666666666666, \"#ed7953\"], [0.7777777777777778, \"#fb9f3a\"], [0.8888888888888888, \"#fdca26\"], [1.0, \"#f0f921\"]], \"type\": \"histogram2dcontour\"}], \"mesh3d\": [{\"colorbar\": {\"outlinewidth\": 0, \"ticks\": \"\"}, \"type\": \"mesh3d\"}], \"parcoords\": [{\"line\": {\"colorbar\": {\"outlinewidth\": 0, \"ticks\": \"\"}}, \"type\": \"parcoords\"}], \"scatter\": [{\"marker\": {\"colorbar\": {\"outlinewidth\": 0, \"ticks\": \"\"}}, \"type\": \"scatter\"}], \"scatter3d\": [{\"line\": {\"colorbar\": {\"outlinewidth\": 0, \"ticks\": \"\"}}, \"marker\": {\"colorbar\": {\"outlinewidth\": 0, \"ticks\": \"\"}}, \"type\": \"scatter3d\"}], \"scattercarpet\": [{\"marker\": {\"colorbar\": {\"outlinewidth\": 0, \"ticks\": \"\"}}, \"type\": \"scattercarpet\"}], \"scattergeo\": [{\"marker\": {\"colorbar\": {\"outlinewidth\": 0, \"ticks\": \"\"}}, \"type\": \"scattergeo\"}], \"scattergl\": [{\"marker\": {\"colorbar\": {\"outlinewidth\": 0, \"ticks\": \"\"}}, \"type\": \"scattergl\"}], \"scattermapbox\": [{\"marker\": {\"colorbar\": {\"outlinewidth\": 0, \"ticks\": \"\"}}, \"type\": \"scattermapbox\"}], \"scatterpolar\": [{\"marker\": {\"colorbar\": {\"outlinewidth\": 0, \"ticks\": \"\"}}, \"type\": \"scatterpolar\"}], \"scatterpolargl\": [{\"marker\": {\"colorbar\": {\"outlinewidth\": 0, \"ticks\": \"\"}}, \"type\": \"scatterpolargl\"}], \"scatterternary\": [{\"marker\": {\"colorbar\": {\"outlinewidth\": 0, \"ticks\": \"\"}}, \"type\": \"scatterternary\"}], \"surface\": [{\"colorbar\": {\"outlinewidth\": 0, \"ticks\": \"\"}, \"colorscale\": [[0.0, \"#0d0887\"], [0.1111111111111111, \"#46039f\"], [0.2222222222222222, \"#7201a8\"], [0.3333333333333333, \"#9c179e\"], [0.4444444444444444, \"#bd3786\"], [0.5555555555555556, \"#d8576b\"], [0.6666666666666666, \"#ed7953\"], [0.7777777777777778, \"#fb9f3a\"], [0.8888888888888888, \"#fdca26\"], [1.0, \"#f0f921\"]], \"type\": \"surface\"}], \"table\": [{\"cells\": {\"fill\": {\"color\": \"#EBF0F8\"}, \"line\": {\"color\": \"white\"}}, \"header\": {\"fill\": {\"color\": \"#C8D4E3\"}, \"line\": {\"color\": \"white\"}}, \"type\": \"table\"}]}, \"layout\": {\"annotationdefaults\": {\"arrowcolor\": \"#2a3f5f\", \"arrowhead\": 0, \"arrowwidth\": 1}, \"colorscale\": {\"diverging\": [[0, \"#8e0152\"], [0.1, \"#c51b7d\"], [0.2, \"#de77ae\"], [0.3, \"#f1b6da\"], [0.4, \"#fde0ef\"], [0.5, \"#f7f7f7\"], [0.6, \"#e6f5d0\"], [0.7, \"#b8e186\"], [0.8, \"#7fbc41\"], [0.9, \"#4d9221\"], [1, \"#276419\"]], \"sequential\": [[0.0, \"#0d0887\"], [0.1111111111111111, \"#46039f\"], [0.2222222222222222, \"#7201a8\"], [0.3333333333333333, \"#9c179e\"], [0.4444444444444444, \"#bd3786\"], [0.5555555555555556, \"#d8576b\"], [0.6666666666666666, \"#ed7953\"], [0.7777777777777778, \"#fb9f3a\"], [0.8888888888888888, \"#fdca26\"], [1.0, \"#f0f921\"]], \"sequentialminus\": [[0.0, \"#0d0887\"], [0.1111111111111111, \"#46039f\"], [0.2222222222222222, \"#7201a8\"], [0.3333333333333333, \"#9c179e\"], [0.4444444444444444, \"#bd3786\"], [0.5555555555555556, \"#d8576b\"], [0.6666666666666666, \"#ed7953\"], [0.7777777777777778, \"#fb9f3a\"], [0.8888888888888888, \"#fdca26\"], [1.0, \"#f0f921\"]]}, \"colorway\": [\"#636efa\", \"#EF553B\", \"#00cc96\", \"#ab63fa\", \"#FFA15A\", \"#19d3f3\", \"#FF6692\", \"#B6E880\", \"#FF97FF\", \"#FECB52\"], \"font\": {\"color\": \"#2a3f5f\"}, \"geo\": {\"bgcolor\": \"white\", \"lakecolor\": \"white\", \"landcolor\": \"#E5ECF6\", \"showlakes\": true, \"showland\": true, \"subunitcolor\": \"white\"}, \"hoverlabel\": {\"align\": \"left\"}, \"hovermode\": \"closest\", \"mapbox\": {\"style\": \"light\"}, \"paper_bgcolor\": \"white\", \"plot_bgcolor\": \"#E5ECF6\", \"polar\": {\"angularaxis\": {\"gridcolor\": \"white\", \"linecolor\": \"white\", \"ticks\": \"\"}, \"bgcolor\": \"#E5ECF6\", \"radialaxis\": {\"gridcolor\": \"white\", \"linecolor\": \"white\", \"ticks\": \"\"}}, \"scene\": {\"xaxis\": {\"backgroundcolor\": \"#E5ECF6\", \"gridcolor\": \"white\", \"gridwidth\": 2, \"linecolor\": \"white\", \"showbackground\": true, \"ticks\": \"\", \"zerolinecolor\": \"white\"}, \"yaxis\": {\"backgroundcolor\": \"#E5ECF6\", \"gridcolor\": \"white\", \"gridwidth\": 2, \"linecolor\": \"white\", \"showbackground\": true, \"ticks\": \"\", \"zerolinecolor\": \"white\"}, \"zaxis\": {\"backgroundcolor\": \"#E5ECF6\", \"gridcolor\": \"white\", \"gridwidth\": 2, \"linecolor\": \"white\", \"showbackground\": true, \"ticks\": \"\", \"zerolinecolor\": \"white\"}}, \"shapedefaults\": {\"line\": {\"color\": \"#2a3f5f\"}}, \"ternary\": {\"aaxis\": {\"gridcolor\": \"white\", \"linecolor\": \"white\", \"ticks\": \"\"}, \"baxis\": {\"gridcolor\": \"white\", \"linecolor\": \"white\", \"ticks\": \"\"}, \"bgcolor\": \"#E5ECF6\", \"caxis\": {\"gridcolor\": \"white\", \"linecolor\": \"white\", \"ticks\": \"\"}}, \"title\": {\"x\": 0.05}, \"xaxis\": {\"automargin\": true, \"gridcolor\": \"white\", \"linecolor\": \"white\", \"ticks\": \"\", \"zerolinecolor\": \"white\", \"zerolinewidth\": 2}, \"yaxis\": {\"automargin\": true, \"gridcolor\": \"white\", \"linecolor\": \"white\", \"ticks\": \"\", \"zerolinecolor\": \"white\", \"zerolinewidth\": 2}}}, \"title\": {\"text\": \"Percentage with Disability Status per Fed Cut\"}, \"width\": 600, \"xaxis\": {\"categoryorder\": \"category ascending\", \"title\": {\"text\": \"Percentage of federal cut\"}}, \"yaxis\": {\"title\": {\"text\": \"Percentage of disabled students\"}}},\n",
              "                        {\"responsive\": true}\n",
              "                    ).then(function(){\n",
              "                            \n",
              "var gd = document.getElementById('9974013e-4b68-4237-83af-ddcd6812f64d');\n",
              "var x = new MutationObserver(function (mutations, observer) {{\n",
              "        var display = window.getComputedStyle(gd).display;\n",
              "        if (!display || display === 'none') {{\n",
              "            console.log([gd, 'removed!']);\n",
              "            Plotly.purge(gd);\n",
              "            observer.disconnect();\n",
              "        }}\n",
              "}});\n",
              "\n",
              "// Listen for the removal of the full notebook cells\n",
              "var notebookContainer = gd.closest('#notebook-container');\n",
              "if (notebookContainer) {{\n",
              "    x.observe(notebookContainer, {childList: true});\n",
              "}}\n",
              "\n",
              "// Listen for the clearing of the current output cell\n",
              "var outputEl = gd.closest('.output');\n",
              "if (outputEl) {{\n",
              "    x.observe(outputEl, {childList: true});\n",
              "}}\n",
              "\n",
              "                        })\n",
              "                };\n",
              "                \n",
              "            </script>\n",
              "        </div>\n",
              "</body>\n",
              "</html>"
            ]
          },
          "metadata": {
            "tags": []
          }
        }
      ]
    },
    {
      "cell_type": "markdown",
      "metadata": {
        "id": "xgb9-0JvHNnY",
        "colab_type": "text"
      },
      "source": [
        "Comment on whether the the distributions appear to be the same or different. Did your selection include any\n",
        "hidden biases, or manage to avoid them?"
      ]
    },
    {
      "cell_type": "markdown",
      "metadata": {
        "id": "KhT5Hh_8HQrw",
        "colab_type": "text"
      },
      "source": [
        "######**Solution**\n",
        "Disabled are the least affected in the fed cut. The reason for the same is that i have used performance to cut funds and usually disabled students tend to struggle in the normal schooling system. \n",
        "Hence, I did not cut their funding at all"
      ]
    },
    {
      "cell_type": "markdown",
      "metadata": {
        "id": "Yi-d-Tgc3oXD",
        "colab_type": "text"
      },
      "source": [
        "#####**Problem 4**\n",
        "\n",
        "Choose and critique one of your fellow classmates’ selection of schools for budget cuts in HW 3 Problem 4 and Problem 5. What was the justification of their selection? Discuss any advantages or disadvantages of their approach."
      ]
    },
    {
      "cell_type": "markdown",
      "metadata": {
        "id": "aa90F5AG1axB",
        "colab_type": "text"
      },
      "source": [
        "######**Solution:**\n",
        "I chose to critique Rutu's HW3 solution for this problem.\n",
        "\n",
        "She has chosen to cut revenues of school's that make more money than they spend or school's whose dependnce on federal funds is less than 80%.\n",
        "\n",
        "This could be a good solution as these schools on the outset don't need as much money as other schools who are in debt.\n",
        "\n",
        "But this doesn't take into account the schools performance on the various tests i.e. if students are performing badly at these schools cutting funding wouldn't be a good idea. Also, punishing schools that reduce expendture is not a good idea, as it could encourage schools to give inflated expenditure numbers."
      ]
    },
    {
      "cell_type": "markdown",
      "metadata": {
        "id": "v5P0_ymN3wR9",
        "colab_type": "text"
      },
      "source": [
        "#####**Problem 5**\n",
        "Summarize and comment on what you learned from one the special topics lectures (MapReduce + Hadoop, Visualization, Causal Inference, or the Industry Panel) of your choice.\n"
      ]
    },
    {
      "cell_type": "markdown",
      "metadata": {
        "id": "C6OekGEp3HbP",
        "colab_type": "text"
      },
      "source": [
        "######**Solution**\n",
        "\n",
        "I have decided to summarize the Industry Panel which included the following panelists:\n",
        "* Faye Zheng of *Gamalon*\n",
        "* Michelle Tat of *Haven Healthcare*\n",
        "* Daniel Hannah *Vectra AI*\n",
        "* Katie Porter *Tamr*\n",
        "* Luke Winslow of *Wayfair* \n",
        "\n",
        "The panelists described the various experiences they had in the industry as a Data Scientist. The panelists talked about the diversity in the title of various Data Science positions and in their naming. This indicated how the hiring process is still in its very nascency as the panelists came to a consesus that the job requirements is more  like a 'good to have' and not really a requirement.\n",
        "\n",
        "In the next panel i would like to see a little more diversity in the roles played by the panelists i.e. maybe a techincal recruiter or a data scientist who is working on development of models(algorithms) or someone who has come from educational background in computer science to whom we can relate."
      ]
    },
    {
      "cell_type": "code",
      "metadata": {
        "id": "AkdcQCSMHrwz",
        "colab_type": "code",
        "colab": {}
      },
      "source": [
        ""
      ],
      "execution_count": 0,
      "outputs": []
    }
  ]
}